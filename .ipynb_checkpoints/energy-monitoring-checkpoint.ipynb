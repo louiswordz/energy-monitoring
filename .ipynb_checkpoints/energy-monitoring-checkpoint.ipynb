{
 "cells": [
  {
   "cell_type": "markdown",
   "id": "898c0370-69c8-449c-bfca-44d03af29145",
   "metadata": {},
   "source": [
    "<h1>Power Supply System</h1>\n",
    "<h2>AIM:</h2>\n",
    "<p>To Predict System kW (FF) for dates placed in the sheet</p>\n",
    "<h3>Questions:</h3>\n",
    "<ol>\n",
    "    <li>What power source (EE) is most used</li>\n",
    "    <li>Around What time of the day does FF seem to be very high, a visual plot for this should also be implemented</li>\n",
    "    <li>What features seem to be most important for your predictive model and which ones seems to be the least important</li>\n",
    "    <li>On average, how many hours are the generator and grid available per day</li>\n",
    "</ol>\n"
   ]
  },
  {
   "cell_type": "code",
   "execution_count": 1,
   "id": "39a542d6-f58d-473c-beec-3d0157a3e609",
   "metadata": {},
   "outputs": [],
   "source": [
    "# Import the necessary libraries\n",
    "import numpy as np\n",
    "import pandas as pd\n",
    "import matplotlib.pyplot as plt\n",
    "import seaborn as sb\n",
    "import plotly.graph_objects as obj\n",
    "from sklearn.ensemble import RandomForestRegressor\n",
    "from sklearn.tree import DecisionTreeRegressor\n",
    "from sklearn.neighbors import KNeighborsRegressor\n",
    "from sklearn.metrics import mean_squared_error, r2_score\n",
    "from sklearn.model_selection import train_test_split"
   ]
  },
  {
   "cell_type": "code",
   "execution_count": 2,
   "id": "b904f870-4b26-4b90-be2e-94e08084a7a0",
   "metadata": {},
   "outputs": [],
   "source": [
    "# Define a class to read data\n",
    "class ReadData:\n",
    "    def __init__(self, data):\n",
    "        self.data = data\n",
    "    def loadData(self):\n",
    "        df = pd.read_excel(self.data)\n",
    "        return df"
   ]
  },
  {
   "cell_type": "code",
   "execution_count": 3,
   "id": "4516c588-fca7-4960-bd65-644caeffa4f8",
   "metadata": {},
   "outputs": [],
   "source": [
    "# Crete the data variable\n",
    "data = ReadData('data/Assessment Data.xlsx')\n",
    "df = data.loadData()"
   ]
  },
  {
   "cell_type": "code",
   "execution_count": 4,
   "id": "91ce3220-c647-4ef2-816b-0340d435826b",
   "metadata": {},
   "outputs": [
    {
     "data": {
      "text/html": [
       "<div>\n",
       "<style scoped>\n",
       "    .dataframe tbody tr th:only-of-type {\n",
       "        vertical-align: middle;\n",
       "    }\n",
       "\n",
       "    .dataframe tbody tr th {\n",
       "        vertical-align: top;\n",
       "    }\n",
       "\n",
       "    .dataframe thead th {\n",
       "        text-align: right;\n",
       "    }\n",
       "</style>\n",
       "<table border=\"1\" class=\"dataframe\">\n",
       "  <thead>\n",
       "    <tr style=\"text-align: right;\">\n",
       "      <th></th>\n",
       "      <th>Time</th>\n",
       "      <th>A</th>\n",
       "      <th>B</th>\n",
       "      <th>C</th>\n",
       "      <th>D</th>\n",
       "      <th>E</th>\n",
       "      <th>F</th>\n",
       "      <th>G</th>\n",
       "      <th>H</th>\n",
       "      <th>I</th>\n",
       "      <th>...</th>\n",
       "      <th>W</th>\n",
       "      <th>X</th>\n",
       "      <th>Y</th>\n",
       "      <th>Z</th>\n",
       "      <th>AA</th>\n",
       "      <th>BB</th>\n",
       "      <th>CC</th>\n",
       "      <th>DD</th>\n",
       "      <th>EE</th>\n",
       "      <th>FF</th>\n",
       "    </tr>\n",
       "  </thead>\n",
       "  <tbody>\n",
       "    <tr>\n",
       "      <th>0</th>\n",
       "      <td>2022-10-24 00:00:00</td>\n",
       "      <td>37.383</td>\n",
       "      <td>-19.733</td>\n",
       "      <td>42.419</td>\n",
       "      <td>0.881</td>\n",
       "      <td>50.167</td>\n",
       "      <td>232.193</td>\n",
       "      <td>402.171</td>\n",
       "      <td>59.780</td>\n",
       "      <td>231.318</td>\n",
       "      <td>...</td>\n",
       "      <td>231.625</td>\n",
       "      <td>400.921</td>\n",
       "      <td>51.618</td>\n",
       "      <td>9.745</td>\n",
       "      <td>-6.834</td>\n",
       "      <td>11.908</td>\n",
       "      <td>0.818</td>\n",
       "      <td>72.971</td>\n",
       "      <td>Grid</td>\n",
       "      <td>37.387</td>\n",
       "    </tr>\n",
       "    <tr>\n",
       "      <th>1</th>\n",
       "      <td>2022-10-24 00:10:00</td>\n",
       "      <td>38.533</td>\n",
       "      <td>-19.610</td>\n",
       "      <td>43.445</td>\n",
       "      <td>0.887</td>\n",
       "      <td>50.108</td>\n",
       "      <td>232.108</td>\n",
       "      <td>402.024</td>\n",
       "      <td>62.579</td>\n",
       "      <td>231.295</td>\n",
       "      <td>...</td>\n",
       "      <td>231.434</td>\n",
       "      <td>400.736</td>\n",
       "      <td>52.979</td>\n",
       "      <td>10.053</td>\n",
       "      <td>-6.933</td>\n",
       "      <td>12.218</td>\n",
       "      <td>0.823</td>\n",
       "      <td>81.161</td>\n",
       "      <td>Grid</td>\n",
       "      <td>38.537</td>\n",
       "    </tr>\n",
       "    <tr>\n",
       "      <th>2</th>\n",
       "      <td>2022-10-24 00:11:00</td>\n",
       "      <td>37.971</td>\n",
       "      <td>-19.772</td>\n",
       "      <td>43.037</td>\n",
       "      <td>0.882</td>\n",
       "      <td>50.127</td>\n",
       "      <td>232.209</td>\n",
       "      <td>402.198</td>\n",
       "      <td>62.136</td>\n",
       "      <td>231.417</td>\n",
       "      <td>...</td>\n",
       "      <td>231.555</td>\n",
       "      <td>400.945</td>\n",
       "      <td>52.894</td>\n",
       "      <td>10.029</td>\n",
       "      <td>-6.910</td>\n",
       "      <td>12.184</td>\n",
       "      <td>0.823</td>\n",
       "      <td>81.295</td>\n",
       "      <td>Grid</td>\n",
       "      <td>37.975</td>\n",
       "    </tr>\n",
       "    <tr>\n",
       "      <th>3</th>\n",
       "      <td>2022-10-24 00:14:00</td>\n",
       "      <td>34.070</td>\n",
       "      <td>-19.920</td>\n",
       "      <td>39.701</td>\n",
       "      <td>0.858</td>\n",
       "      <td>50.029</td>\n",
       "      <td>231.183</td>\n",
       "      <td>400.419</td>\n",
       "      <td>57.584</td>\n",
       "      <td>230.424</td>\n",
       "      <td>...</td>\n",
       "      <td>230.537</td>\n",
       "      <td>399.203</td>\n",
       "      <td>46.042</td>\n",
       "      <td>8.035</td>\n",
       "      <td>-6.818</td>\n",
       "      <td>10.543</td>\n",
       "      <td>0.762</td>\n",
       "      <td>72.794</td>\n",
       "      <td>Grid</td>\n",
       "      <td>34.073</td>\n",
       "    </tr>\n",
       "    <tr>\n",
       "      <th>4</th>\n",
       "      <td>2022-10-24 00:15:00</td>\n",
       "      <td>34.697</td>\n",
       "      <td>-19.598</td>\n",
       "      <td>40.100</td>\n",
       "      <td>0.865</td>\n",
       "      <td>49.951</td>\n",
       "      <td>230.734</td>\n",
       "      <td>399.644</td>\n",
       "      <td>58.236</td>\n",
       "      <td>229.940</td>\n",
       "      <td>...</td>\n",
       "      <td>230.136</td>\n",
       "      <td>398.438</td>\n",
       "      <td>45.852</td>\n",
       "      <td>8.045</td>\n",
       "      <td>-6.767</td>\n",
       "      <td>10.517</td>\n",
       "      <td>0.765</td>\n",
       "      <td>72.969</td>\n",
       "      <td>Grid</td>\n",
       "      <td>34.700</td>\n",
       "    </tr>\n",
       "  </tbody>\n",
       "</table>\n",
       "<p>5 rows × 33 columns</p>\n",
       "</div>"
      ],
      "text/plain": [
       "                 Time       A       B       C      D       E        F  \\\n",
       "0 2022-10-24 00:00:00  37.383 -19.733  42.419  0.881  50.167  232.193   \n",
       "1 2022-10-24 00:10:00  38.533 -19.610  43.445  0.887  50.108  232.108   \n",
       "2 2022-10-24 00:11:00  37.971 -19.772  43.037  0.882  50.127  232.209   \n",
       "3 2022-10-24 00:14:00  34.070 -19.920  39.701  0.858  50.029  231.183   \n",
       "4 2022-10-24 00:15:00  34.697 -19.598  40.100  0.865  49.951  230.734   \n",
       "\n",
       "         G       H        I  ...        W        X       Y       Z     AA  \\\n",
       "0  402.171  59.780  231.318  ...  231.625  400.921  51.618   9.745 -6.834   \n",
       "1  402.024  62.579  231.295  ...  231.434  400.736  52.979  10.053 -6.933   \n",
       "2  402.198  62.136  231.417  ...  231.555  400.945  52.894  10.029 -6.910   \n",
       "3  400.419  57.584  230.424  ...  230.537  399.203  46.042   8.035 -6.818   \n",
       "4  399.644  58.236  229.940  ...  230.136  398.438  45.852   8.045 -6.767   \n",
       "\n",
       "       BB     CC      DD    EE      FF  \n",
       "0  11.908  0.818  72.971  Grid  37.387  \n",
       "1  12.218  0.823  81.161  Grid  38.537  \n",
       "2  12.184  0.823  81.295  Grid  37.975  \n",
       "3  10.543  0.762  72.794  Grid  34.073  \n",
       "4  10.517  0.765  72.969  Grid  34.700  \n",
       "\n",
       "[5 rows x 33 columns]"
      ]
     },
     "execution_count": 4,
     "metadata": {},
     "output_type": "execute_result"
    }
   ],
   "source": [
    "# View data\n",
    "df.head()"
   ]
  },
  {
   "cell_type": "code",
   "execution_count": 5,
   "id": "c216f006-de3e-4104-a1dc-8b2dc9f5a1e5",
   "metadata": {},
   "outputs": [
    {
     "name": "stdout",
     "output_type": "stream",
     "text": [
      "<class 'pandas.core.frame.DataFrame'>\n",
      "RangeIndex: 46948 entries, 0 to 46947\n",
      "Data columns (total 33 columns):\n",
      " #   Column  Non-Null Count  Dtype         \n",
      "---  ------  --------------  -----         \n",
      " 0   Time    46948 non-null  datetime64[ns]\n",
      " 1   A       46713 non-null  float64       \n",
      " 2   B       46713 non-null  float64       \n",
      " 3   C       46713 non-null  float64       \n",
      " 4   D       46713 non-null  float64       \n",
      " 5   E       46713 non-null  float64       \n",
      " 6   F       46713 non-null  float64       \n",
      " 7   G       46713 non-null  float64       \n",
      " 8   H       46713 non-null  float64       \n",
      " 9   I       46713 non-null  float64       \n",
      " 10  J       46713 non-null  float64       \n",
      " 11  K       46713 non-null  float64       \n",
      " 12  L       46713 non-null  float64       \n",
      " 13  M       46713 non-null  float64       \n",
      " 14  N       46713 non-null  float64       \n",
      " 15  O       46713 non-null  float64       \n",
      " 16  P       46713 non-null  float64       \n",
      " 17  Q       46713 non-null  float64       \n",
      " 18  R       46713 non-null  float64       \n",
      " 19  S       46713 non-null  float64       \n",
      " 20  T       46713 non-null  float64       \n",
      " 21  U       46713 non-null  float64       \n",
      " 22  V       46713 non-null  float64       \n",
      " 23  W       46713 non-null  float64       \n",
      " 24  X       46713 non-null  float64       \n",
      " 25  Y       46713 non-null  float64       \n",
      " 26  Z       46713 non-null  float64       \n",
      " 27  AA      46713 non-null  float64       \n",
      " 28  BB      46713 non-null  float64       \n",
      " 29  CC      46713 non-null  float64       \n",
      " 30  DD      46713 non-null  float64       \n",
      " 31  EE      46713 non-null  object        \n",
      " 32  FF      46713 non-null  float64       \n",
      "dtypes: datetime64[ns](1), float64(31), object(1)\n",
      "memory usage: 11.8+ MB\n"
     ]
    }
   ],
   "source": [
    "#Get data info\n",
    "df.info()"
   ]
  },
  {
   "cell_type": "code",
   "execution_count": 6,
   "id": "9955e396-01dd-4816-99c5-3a69509b0da6",
   "metadata": {},
   "outputs": [
    {
     "data": {
      "text/plain": [
       "Time      0\n",
       "A       235\n",
       "B       235\n",
       "C       235\n",
       "D       235\n",
       "E       235\n",
       "F       235\n",
       "G       235\n",
       "H       235\n",
       "I       235\n",
       "J       235\n",
       "K       235\n",
       "L       235\n",
       "M       235\n",
       "N       235\n",
       "O       235\n",
       "P       235\n",
       "Q       235\n",
       "R       235\n",
       "S       235\n",
       "T       235\n",
       "U       235\n",
       "V       235\n",
       "W       235\n",
       "X       235\n",
       "Y       235\n",
       "Z       235\n",
       "AA      235\n",
       "BB      235\n",
       "CC      235\n",
       "DD      235\n",
       "EE      235\n",
       "FF      235\n",
       "dtype: int64"
      ]
     },
     "execution_count": 6,
     "metadata": {},
     "output_type": "execute_result"
    }
   ],
   "source": [
    "# Check for missing data\n",
    "df.isnull().sum()"
   ]
  },
  {
   "cell_type": "markdown",
   "id": "f9a3a187-ccb0-40e5-904c-1d42a048c9b7",
   "metadata": {},
   "source": [
    "#### We have `235` missing values"
   ]
  },
  {
   "cell_type": "code",
   "execution_count": 7,
   "id": "8cf27d9e-be88-4c24-9aa9-5e3891c65382",
   "metadata": {},
   "outputs": [],
   "source": [
    "# Data cleaning dropping missing values\n",
    "df.dropna(axis=0, inplace=True)"
   ]
  },
  {
   "cell_type": "code",
   "execution_count": 8,
   "id": "d1653984-4b7d-44e9-8238-fe26b22cacd4",
   "metadata": {},
   "outputs": [
    {
     "data": {
      "text/plain": [
       "Time    False\n",
       "A       False\n",
       "B       False\n",
       "C       False\n",
       "D       False\n",
       "E       False\n",
       "F       False\n",
       "G       False\n",
       "H       False\n",
       "I       False\n",
       "J       False\n",
       "K       False\n",
       "L       False\n",
       "M       False\n",
       "N       False\n",
       "O       False\n",
       "P       False\n",
       "Q       False\n",
       "R       False\n",
       "S       False\n",
       "T       False\n",
       "U       False\n",
       "V       False\n",
       "W       False\n",
       "X       False\n",
       "Y       False\n",
       "Z       False\n",
       "AA      False\n",
       "BB      False\n",
       "CC      False\n",
       "DD      False\n",
       "EE      False\n",
       "FF      False\n",
       "dtype: bool"
      ]
     },
     "execution_count": 8,
     "metadata": {},
     "output_type": "execute_result"
    }
   ],
   "source": [
    "# Confirm missing values\n",
    "df.isnull().any()"
   ]
  },
  {
   "cell_type": "code",
   "execution_count": 9,
   "id": "eaa93d81-b4af-4025-bcf1-9c12251f9d71",
   "metadata": {},
   "outputs": [
    {
     "data": {
      "text/plain": [
       "Index(['Time', 'A', 'B', 'C', 'D', 'E', 'F', 'G', 'H', 'I', 'J', 'K', 'L', 'M',\n",
       "       'N', 'O', 'P', 'Q', 'R', 'S', 'T', 'U', 'V', 'W', 'X', 'Y', 'Z', 'AA',\n",
       "       'BB', 'CC', 'DD', 'EE', 'FF'],\n",
       "      dtype='object')"
      ]
     },
     "execution_count": 9,
     "metadata": {},
     "output_type": "execute_result"
    }
   ],
   "source": [
    "# Check the column names\n",
    "df.columns"
   ]
  },
  {
   "cell_type": "markdown",
   "id": "ccbd94fe-ffbb-4345-87c5-d00776315065",
   "metadata": {},
   "source": [
    "<h2>1. What power source (EE) is most used</h2>"
   ]
  },
  {
   "cell_type": "code",
   "execution_count": 10,
   "id": "5ea46cca-a81d-47e8-903a-60f6b401aa17",
   "metadata": {},
   "outputs": [
    {
     "data": {
      "text/plain": [
       "EE\n",
       "Grid    35677\n",
       "Gen3     6943\n",
       "Gen2     4093\n",
       "Name: count, dtype: int64"
      ]
     },
     "execution_count": 10,
     "metadata": {},
     "output_type": "execute_result"
    }
   ],
   "source": [
    "#1. What power source (EE) is most used\n",
    "df.EE.value_counts()"
   ]
  },
  {
   "cell_type": "code",
   "execution_count": 11,
   "id": "8bb115c2-2cc9-4c4b-9e45-6250ebca233e",
   "metadata": {},
   "outputs": [
    {
     "data": {
      "image/png": "[encoded data removed]",
      "text/plain": [
       "<Figure size 500x400 with 1 Axes>"
      ]
     },
     "metadata": {},
     "output_type": "display_data"
    }
   ],
   "source": [
    "# Visualize the distribution\n",
    "plt.figure(figsize=(5,4))\n",
    "sb.countplot(x='EE', data=df)\n",
    "plt.title('Distribution of Power Sources')\n",
    "plt.ylabel('Count')\n",
    "plt.xlabel('Power Source (EE)')\n",
    "plt.show()"
   ]
  },
  {
   "cell_type": "markdown",
   "id": "db42ed8e-e85a-4568-8452-c3ca2db38c0a",
   "metadata": {},
   "source": [
    "#### Grid has the most used power source with `35677`kW"
   ]
  },
  {
   "cell_type": "markdown",
   "id": "5cd86ccc-e88c-4759-92ef-214761303bd2",
   "metadata": {},
   "source": [
    "<h5>#2. Around What time of the day does FF seem to be very high, a visual plot for this should also be implemented\n",
    "</h5>"
   ]
  },
  {
   "cell_type": "code",
   "execution_count": 12,
   "id": "88c1018c-92ed-4374-80c1-7197d8304956",
   "metadata": {},
   "outputs": [],
   "source": [
    "#2. Around What time of the day does FF seem to be very high, a visual plot for this should also be implemented\n",
    "df2 = df.copy()"
   ]
  },
  {
   "cell_type": "code",
   "execution_count": 13,
   "id": "dadb6dae-fc77-4ddf-8bae-b9a061a59354",
   "metadata": {},
   "outputs": [],
   "source": [
    "df2.set_index('Time', inplace=True)"
   ]
  },
  {
   "cell_type": "code",
   "execution_count": 14,
   "id": "b35dc95f-cbde-4cba-a7b1-bd5f7e464252",
   "metadata": {},
   "outputs": [],
   "source": [
    "df2.sort_index(inplace=True)"
   ]
  },
  {
   "cell_type": "code",
   "execution_count": 15,
   "id": "5c871caf-fe0c-47df-93a0-a699e58d2df8",
   "metadata": {},
   "outputs": [
    {
     "name": "stdout",
     "output_type": "stream",
     "text": [
      "Time of the day FF seem to be very high is at the 15th hour\n"
     ]
    }
   ],
   "source": [
    "#time of the day FF seem to be very high\n",
    "peak_hours = df2.groupby(df2.index.hour)['FF'].mean().idxmax()\n",
    "print(f'Time of the day FF seem to be very high is at the {peak_hours}th hour')"
   ]
  },
  {
   "cell_type": "code",
   "execution_count": 16,
   "id": "a5defb3a-d42d-4219-82b3-ca5c2b5b98a3",
   "metadata": {},
   "outputs": [
    {
     "data": {
      "text/plain": [
       "81.77534260690366"
      ]
     },
     "execution_count": 16,
     "metadata": {},
     "output_type": "execute_result"
    }
   ],
   "source": [
    "df2.groupby(df2.index.hour)['FF'].mean().max()"
   ]
  },
  {
   "cell_type": "code",
   "execution_count": 17,
   "id": "10c64cca-084d-4b6b-88d7-ceb479efd26d",
   "metadata": {},
   "outputs": [
    {
     "data": {
      "text/plain": [
       "Text(0, 0.5, 'System kW (FF)')"
      ]
     },
     "execution_count": 17,
     "metadata": {},
     "output_type": "execute_result"
    },
    {
     "data": {
      "image/png": "[encoded data removed]",
      "text/plain": [
       "<Figure size 640x480 with 1 Axes>"
      ]
     },
     "metadata": {},
     "output_type": "display_data"
    }
   ],
   "source": [
    "# Daily time series plot\n",
    "df2['FF'].resample('D').interpolate().plot()\n",
    "plt.title('Daily Trend of FF')\n",
    "plt.xlabel('Day')\n",
    "plt.ylabel('System kW (FF)')"
   ]
  },
  {
   "cell_type": "code",
   "execution_count": 18,
   "id": "de2e53a8-6a01-4471-8f80-57dcdce20977",
   "metadata": {},
   "outputs": [
    {
     "data": {
      "text/plain": [
       "Text(0, 0.5, 'System kW(FF)')"
      ]
     },
     "execution_count": 18,
     "metadata": {},
     "output_type": "execute_result"
    },
    {
     "data": {
      "image/png": "[encoded data removed]",
      "text/plain": [
       "<Figure size 1000x400 with 1 Axes>"
      ]
     },
     "metadata": {},
     "output_type": "display_data"
    }
   ],
   "source": [
    "# What time of the day does FF seem to be very high\n",
    "fig  = plt.figure(figsize=[10,4])\n",
    "df2['FF'].resample('h').interpolate().plot();\n",
    "plt.title('Time of the day FF seem to be very high')\n",
    "plt.xlabel('Time')\n",
    "plt.ylabel('System kW(FF)')"
   ]
  },
  {
   "cell_type": "markdown",
   "id": "643af2c1-ac9e-49f6-a0e7-ac041e221e88",
   "metadata": {},
   "source": [
    "#### `15th hour` seems to have the highest FF value"
   ]
  },
  {
   "cell_type": "markdown",
   "id": "1eddda90-54c1-4d70-bb14-9601603ec89d",
   "metadata": {},
   "source": [
    "<h5>3. What features seem to be most important for your predictive model and which ones seems to be the least important</h5>"
   ]
  },
  {
   "cell_type": "code",
   "execution_count": 19,
   "id": "f5d50c64-979b-4092-ba64-6c19bf7fd6d5",
   "metadata": {},
   "outputs": [],
   "source": [
    "#3. What features seem to be most important for your predictive model and which ones seems to be the least important\n",
    "# Preparing the data for modeling\n",
    "X = df.drop(['FF', 'Time'], axis=1)\n",
    "#convert EE to numerical columnn\n",
    "X = pd.get_dummies(X, drop_first=True)\n",
    "y = df['FF']"
   ]
  },
  {
   "cell_type": "code",
   "execution_count": 20,
   "id": "6044cbe8-97b0-4697-9bce-f7bbdbcb82c6",
   "metadata": {},
   "outputs": [],
   "source": [
    "# Split data into train and test set\n",
    "X_train, X_test, y_train, y_test = train_test_split(X, y, test_size=0.2, random_state=42)"
   ]
  },
  {
   "cell_type": "code",
   "execution_count": 21,
   "id": "617b1292-147f-41be-b115-28b56fe9a45b",
   "metadata": {},
   "outputs": [
    {
     "data": {
      "text/html": [
       "<style>#sk-container-id-1 {color: black;background-color: white;}#sk-container-id-1 pre{padding: 0;}#sk-container-id-1 div.sk-toggleable {background-color: white;}#sk-container-id-1 label.sk-toggleable__label {cursor: pointer;display: block;width: 100%;margin-bottom: 0;padding: 0.3em;box-sizing: border-box;text-align: center;}#sk-container-id-1 label.sk-toggleable__label-arrow:before {content: \"▸\";float: left;margin-right: 0.25em;color: #696969;}#sk-container-id-1 label.sk-toggleable__label-arrow:hover:before {color: black;}#sk-container-id-1 div.sk-estimator:hover label.sk-toggleable__label-arrow:before {color: black;}#sk-container-id-1 div.sk-toggleable__content {max-height: 0;max-width: 0;overflow: hidden;text-align: left;background-color: #f0f8ff;}#sk-container-id-1 div.sk-toggleable__content pre {margin: 0.2em;color: black;border-radius: 0.25em;background-color: #f0f8ff;}#sk-container-id-1 input.sk-toggleable__control:checked~div.sk-toggleable__content {max-height: 200px;max-width: 100%;overflow: auto;}#sk-container-id-1 input.sk-toggleable__control:checked~label.sk-toggleable__label-arrow:before {content: \"▾\";}#sk-container-id-1 div.sk-estimator input.sk-toggleable__control:checked~label.sk-toggleable__label {background-color: #d4ebff;}#sk-container-id-1 div.sk-label input.sk-toggleable__control:checked~label.sk-toggleable__label {background-color: #d4ebff;}#sk-container-id-1 input.sk-hidden--visually {border: 0;clip: rect(1px 1px 1px 1px);clip: rect(1px, 1px, 1px, 1px);height: 1px;margin: -1px;overflow: hidden;padding: 0;position: absolute;width: 1px;}#sk-container-id-1 div.sk-estimator {font-family: monospace;background-color: #f0f8ff;border: 1px dotted black;border-radius: 0.25em;box-sizing: border-box;margin-bottom: 0.5em;}#sk-container-id-1 div.sk-estimator:hover {background-color: #d4ebff;}#sk-container-id-1 div.sk-parallel-item::after {content: \"\";width: 100%;border-bottom: 1px solid gray;flex-grow: 1;}#sk-container-id-1 div.sk-label:hover label.sk-toggleable__label {background-color: #d4ebff;}#sk-container-id-1 div.sk-serial::before {content: \"\";position: absolute;border-left: 1px solid gray;box-sizing: border-box;top: 0;bottom: 0;left: 50%;z-index: 0;}#sk-container-id-1 div.sk-serial {display: flex;flex-direction: column;align-items: center;background-color: white;padding-right: 0.2em;padding-left: 0.2em;position: relative;}#sk-container-id-1 div.sk-item {position: relative;z-index: 1;}#sk-container-id-1 div.sk-parallel {display: flex;align-items: stretch;justify-content: center;background-color: white;position: relative;}#sk-container-id-1 div.sk-item::before, #sk-container-id-1 div.sk-parallel-item::before {content: \"\";position: absolute;border-left: 1px solid gray;box-sizing: border-box;top: 0;bottom: 0;left: 50%;z-index: -1;}#sk-container-id-1 div.sk-parallel-item {display: flex;flex-direction: column;z-index: 1;position: relative;background-color: white;}#sk-container-id-1 div.sk-parallel-item:first-child::after {align-self: flex-end;width: 50%;}#sk-container-id-1 div.sk-parallel-item:last-child::after {align-self: flex-start;width: 50%;}#sk-container-id-1 div.sk-parallel-item:only-child::after {width: 0;}#sk-container-id-1 div.sk-dashed-wrapped {border: 1px dashed gray;margin: 0 0.4em 0.5em 0.4em;box-sizing: border-box;padding-bottom: 0.4em;background-color: white;}#sk-container-id-1 div.sk-label label {font-family: monospace;font-weight: bold;display: inline-block;line-height: 1.2em;}#sk-container-id-1 div.sk-label-container {text-align: center;}#sk-container-id-1 div.sk-container {/* jupyter's `normalize.less` sets `[hidden] { display: none; }` but bootstrap.min.css set `[hidden] { display: none !important; }` so we also need the `!important` here to be able to override the default hidden behavior on the sphinx rendered scikit-learn.org. See: https://github.com/scikit-learn/scikit-learn/issues/21755 */display: inline-block !important;position: relative;}#sk-container-id-1 div.sk-text-repr-fallback {display: none;}</style><div id=\"sk-container-id-1\" class=\"sk-top-container\"><div class=\"sk-text-repr-fallback\"><pre>DecisionTreeRegressor(max_depth=5, random_state=42)</pre><b>In a Jupyter environment, please rerun this cell to show the HTML representation or trust the notebook. <br />On GitHub, the HTML representation is unable to render, please try loading this page with nbviewer.org.</b></div><div class=\"sk-container\" hidden><div class=\"sk-item\"><div class=\"sk-estimator sk-toggleable\"><input class=\"sk-toggleable__control sk-hidden--visually\" id=\"sk-estimator-id-1\" type=\"checkbox\" checked><label for=\"sk-estimator-id-1\" class=\"sk-toggleable__label sk-toggleable__label-arrow\">DecisionTreeRegressor</label><div class=\"sk-toggleable__content\"><pre>DecisionTreeRegressor(max_depth=5, random_state=42)</pre></div></div></div></div></div>"
      ],
      "text/plain": [
       "DecisionTreeRegressor(max_depth=5, random_state=42)"
      ]
     },
     "execution_count": 21,
     "metadata": {},
     "output_type": "execute_result"
    }
   ],
   "source": [
    "# Decision tree regressor\n",
    "model = DecisionTreeRegressor(max_depth=5, random_state=42)\n",
    "model.fit(X_train, y_train)"
   ]
  },
  {
   "cell_type": "code",
   "execution_count": 22,
   "id": "bcd2f61a-08b5-4d85-86e1-52d83fd073ef",
   "metadata": {},
   "outputs": [],
   "source": [
    "# Get feature importance\n",
    "feature_importance = model.feature_importances_\n",
    "\n",
    "# Create a DataFrame for better visualization\n",
    "importance_df = pd.DataFrame({\"Feature\": X.columns, \"Importance\": feature_importance})\n",
    "importance_df = importance_df.sort_values(by=\"Importance\", ascending=False)"
   ]
  },
  {
   "cell_type": "code",
   "execution_count": 23,
   "id": "0ea34fae-8814-473d-a151-28ab97248f02",
   "metadata": {},
   "outputs": [
    {
     "name": "stdout",
     "output_type": "stream",
     "text": [
      "Most important features:\n",
      "    Feature  Importance\n",
      "0         A         1.0\n",
      "1         B         0.0\n",
      "30  EE_Gen3         0.0\n",
      "29       DD         0.0\n",
      "28       CC         0.0\n"
     ]
    }
   ],
   "source": [
    "# Print results\n",
    "#Most Important\n",
    "print(\"Most important features:\")\n",
    "print(importance_df.head())"
   ]
  },
  {
   "cell_type": "code",
   "execution_count": 24,
   "id": "d985bf41-b5d3-43af-96b2-965a3cd50b19",
   "metadata": {},
   "outputs": [
    {
     "name": "stdout",
     "output_type": "stream",
     "text": [
      "\n",
      "Least important features:\n",
      "    Feature  Importance\n",
      "5         F         0.0\n",
      "4         E         0.0\n",
      "3         D         0.0\n",
      "2         C         0.0\n",
      "31  EE_Grid         0.0\n"
     ]
    }
   ],
   "source": [
    "# Least Important\n",
    "print(\"\\nLeast important features:\")\n",
    "print(importance_df.tail())"
   ]
  },
  {
   "cell_type": "markdown",
   "id": "fe16c7f2-16d4-4e14-9e2d-3e15a0f2247e",
   "metadata": {},
   "source": [
    "<h5>4. On average, how many hours are the generator and grid available per day</h5>"
   ]
  },
  {
   "cell_type": "code",
   "execution_count": 25,
   "id": "ed6d9fc8-aff4-419b-86bb-98b58165ee61",
   "metadata": {},
   "outputs": [],
   "source": [
    "# 4. On average, how many hours are the generator and grid available per day\n",
    "# Count occurrences of each power source per day\n",
    "df[\"Date\"] = df[\"Time\"].dt.date\n",
    "power_availability = df.groupby([\"Date\", \"EE\"]).size().unstack(fill_value=0)"
   ]
  },
  {
   "cell_type": "code",
   "execution_count": 26,
   "id": "6cc68e98-f7af-46da-a791-05fae646a93c",
   "metadata": {},
   "outputs": [
    {
     "data": {
      "text/plain": [
       "EE\n",
       "Gen2     2.067172\n",
       "Gen3     3.506566\n",
       "Grid    18.018687\n",
       "dtype: float64"
      ]
     },
     "execution_count": 26,
     "metadata": {},
     "output_type": "execute_result"
    }
   ],
   "source": [
    "# Computed average daily availability (in hours) for each power source\n",
    "avg_daily_availability = power_availability.mean() / 60  # for every 1 minutes logged\n",
    "avg_daily_availability"
   ]
  },
  {
   "cell_type": "markdown",
   "id": "38af6629-af78-4d55-9954-750738ea77a5",
   "metadata": {},
   "source": [
    "<h2>Data Modeling</h2>"
   ]
  },
  {
   "cell_type": "code",
   "execution_count": 27,
   "id": "5ec27cd5-ec56-4a17-883f-e2ccd16fedc5",
   "metadata": {},
   "outputs": [],
   "source": [
    "# Prepare the data for prediction\n",
    "X = df.drop(['FF', 'Time'], axis=1)\n",
    "X = pd.get_dummies(X, drop_first=True)\n",
    "y = df['FF']\n"
   ]
  },
  {
   "cell_type": "code",
   "execution_count": 28,
   "id": "605ad0d1-16b9-40ad-8ccc-70155a3d6c71",
   "metadata": {},
   "outputs": [],
   "source": [
    "# Split the data\n",
    "X_train, X_test, y_train, y_test = train_test_split(X, y, test_size=0.2, random_state=42)"
   ]
  },
  {
   "cell_type": "code",
   "execution_count": 29,
   "id": "11ab3cfd-8ab3-42f5-b3ac-88f4b9e3ba82",
   "metadata": {},
   "outputs": [],
   "source": [
    "# Train a model (Random Forest)\n",
    "# Random Forest\n",
    "rf_model = RandomForestRegressor(n_estimators=100, random_state=42)\n",
    "rf_model.fit(X_train, y_train)\n",
    "rf_pred = rf_model.predict(X_test)\n",
    "rf_rmse = np.sqrt(mean_squared_error(y_test, rf_pred))\n",
    "rf_r2 = r2_score(y_test, rf_pred)"
   ]
  },
  {
   "cell_type": "code",
   "execution_count": 30,
   "id": "26c52469-5403-4d46-b8b8-e393ce447839",
   "metadata": {},
   "outputs": [
    {
     "name": "stdout",
     "output_type": "stream",
     "text": [
      "Random Forest RMSE: 0.09, R²: 1.00\n"
     ]
    }
   ],
   "source": [
    "print(f\"Random Forest RMSE: {rf_rmse:.2f}, R²: {rf_r2:.2f}\")"
   ]
  },
  {
   "cell_type": "code",
   "execution_count": 31,
   "id": "f2e0cc3b-cd31-423c-8fc0-ad69a77fd225",
   "metadata": {},
   "outputs": [],
   "source": [
    "# Train a model (KNeigbors)\n",
    "knn_model = KNeighborsRegressor(n_neighbors=10, n_jobs=100)\n",
    "knn_model.fit(X_train, y_train)\n",
    "knn_pred = knn_model.predict(X_test)\n",
    "knn_rmse = np.sqrt(mean_squared_error(y_test, knn_pred))\n",
    "knn_r2 = r2_score(y_test, knn_pred)"
   ]
  },
  {
   "cell_type": "code",
   "execution_count": 32,
   "id": "3ae62a11-6b66-4114-9c40-512e22b8f9d9",
   "metadata": {},
   "outputs": [
    {
     "name": "stdout",
     "output_type": "stream",
     "text": [
      "KNeighbors RMSE: 0.95, R²: 1.00\n"
     ]
    }
   ],
   "source": [
    "print(f\"KNeighbors RMSE: {knn_rmse:.2f}, R²: {knn_r2:.2f}\")"
   ]
  },
  {
   "cell_type": "code",
   "execution_count": 33,
   "id": "a520554f-eebd-4c40-9929-50e93bd13bfc",
   "metadata": {},
   "outputs": [
    {
     "data": {
      "text/html": [
       "<style>#sk-container-id-2 {color: black;background-color: white;}#sk-container-id-2 pre{padding: 0;}#sk-container-id-2 div.sk-toggleable {background-color: white;}#sk-container-id-2 label.sk-toggleable__label {cursor: pointer;display: block;width: 100%;margin-bottom: 0;padding: 0.3em;box-sizing: border-box;text-align: center;}#sk-container-id-2 label.sk-toggleable__label-arrow:before {content: \"▸\";float: left;margin-right: 0.25em;color: #696969;}#sk-container-id-2 label.sk-toggleable__label-arrow:hover:before {color: black;}#sk-container-id-2 div.sk-estimator:hover label.sk-toggleable__label-arrow:before {color: black;}#sk-container-id-2 div.sk-toggleable__content {max-height: 0;max-width: 0;overflow: hidden;text-align: left;background-color: #f0f8ff;}#sk-container-id-2 div.sk-toggleable__content pre {margin: 0.2em;color: black;border-radius: 0.25em;background-color: #f0f8ff;}#sk-container-id-2 input.sk-toggleable__control:checked~div.sk-toggleable__content {max-height: 200px;max-width: 100%;overflow: auto;}#sk-container-id-2 input.sk-toggleable__control:checked~label.sk-toggleable__label-arrow:before {content: \"▾\";}#sk-container-id-2 div.sk-estimator input.sk-toggleable__control:checked~label.sk-toggleable__label {background-color: #d4ebff;}#sk-container-id-2 div.sk-label input.sk-toggleable__control:checked~label.sk-toggleable__label {background-color: #d4ebff;}#sk-container-id-2 input.sk-hidden--visually {border: 0;clip: rect(1px 1px 1px 1px);clip: rect(1px, 1px, 1px, 1px);height: 1px;margin: -1px;overflow: hidden;padding: 0;position: absolute;width: 1px;}#sk-container-id-2 div.sk-estimator {font-family: monospace;background-color: #f0f8ff;border: 1px dotted black;border-radius: 0.25em;box-sizing: border-box;margin-bottom: 0.5em;}#sk-container-id-2 div.sk-estimator:hover {background-color: #d4ebff;}#sk-container-id-2 div.sk-parallel-item::after {content: \"\";width: 100%;border-bottom: 1px solid gray;flex-grow: 1;}#sk-container-id-2 div.sk-label:hover label.sk-toggleable__label {background-color: #d4ebff;}#sk-container-id-2 div.sk-serial::before {content: \"\";position: absolute;border-left: 1px solid gray;box-sizing: border-box;top: 0;bottom: 0;left: 50%;z-index: 0;}#sk-container-id-2 div.sk-serial {display: flex;flex-direction: column;align-items: center;background-color: white;padding-right: 0.2em;padding-left: 0.2em;position: relative;}#sk-container-id-2 div.sk-item {position: relative;z-index: 1;}#sk-container-id-2 div.sk-parallel {display: flex;align-items: stretch;justify-content: center;background-color: white;position: relative;}#sk-container-id-2 div.sk-item::before, #sk-container-id-2 div.sk-parallel-item::before {content: \"\";position: absolute;border-left: 1px solid gray;box-sizing: border-box;top: 0;bottom: 0;left: 50%;z-index: -1;}#sk-container-id-2 div.sk-parallel-item {display: flex;flex-direction: column;z-index: 1;position: relative;background-color: white;}#sk-container-id-2 div.sk-parallel-item:first-child::after {align-self: flex-end;width: 50%;}#sk-container-id-2 div.sk-parallel-item:last-child::after {align-self: flex-start;width: 50%;}#sk-container-id-2 div.sk-parallel-item:only-child::after {width: 0;}#sk-container-id-2 div.sk-dashed-wrapped {border: 1px dashed gray;margin: 0 0.4em 0.5em 0.4em;box-sizing: border-box;padding-bottom: 0.4em;background-color: white;}#sk-container-id-2 div.sk-label label {font-family: monospace;font-weight: bold;display: inline-block;line-height: 1.2em;}#sk-container-id-2 div.sk-label-container {text-align: center;}#sk-container-id-2 div.sk-container {/* jupyter's `normalize.less` sets `[hidden] { display: none; }` but bootstrap.min.css set `[hidden] { display: none !important; }` so we also need the `!important` here to be able to override the default hidden behavior on the sphinx rendered scikit-learn.org. See: https://github.com/scikit-learn/scikit-learn/issues/21755 */display: inline-block !important;position: relative;}#sk-container-id-2 div.sk-text-repr-fallback {display: none;}</style><div id=\"sk-container-id-2\" class=\"sk-top-container\"><div class=\"sk-text-repr-fallback\"><pre>RandomForestRegressor(random_state=42)</pre><b>In a Jupyter environment, please rerun this cell to show the HTML representation or trust the notebook. <br />On GitHub, the HTML representation is unable to render, please try loading this page with nbviewer.org.</b></div><div class=\"sk-container\" hidden><div class=\"sk-item\"><div class=\"sk-estimator sk-toggleable\"><input class=\"sk-toggleable__control sk-hidden--visually\" id=\"sk-estimator-id-2\" type=\"checkbox\" checked><label for=\"sk-estimator-id-2\" class=\"sk-toggleable__label sk-toggleable__label-arrow\">RandomForestRegressor</label><div class=\"sk-toggleable__content\"><pre>RandomForestRegressor(random_state=42)</pre></div></div></div></div></div>"
      ],
      "text/plain": [
       "RandomForestRegressor(random_state=42)"
      ]
     },
     "execution_count": 33,
     "metadata": {},
     "output_type": "execute_result"
    }
   ],
   "source": [
    "# Choose the better model\n",
    "final_model = rf_model if rf_rmse < knn_rmse else knn_model\n",
    "final_model"
   ]
  },
  {
   "cell_type": "code",
   "execution_count": 34,
   "id": "4e866844-40c7-4c6b-bd68-238b3523e928",
   "metadata": {},
   "outputs": [],
   "source": [
    "prediction = final_model.predict(X_test)"
   ]
  },
  {
   "cell_type": "code",
   "execution_count": 35,
   "id": "1d5827a1-c798-4797-85c5-d7c7dfa4555a",
   "metadata": {},
   "outputs": [],
   "source": [
    "# Prepare submission\n",
    "FF = prediction\n",
    "submission = pd.Series(FF)"
   ]
  }
 ],
 "metadata": {
  "kernelspec": {
   "display_name": "Python 3 (ipykernel)",
   "language": "python",
   "name": "python3"
  },
  "language_info": {
   "codemirror_mode": {
    "name": "ipython",
    "version": 3
   },
   "file_extension": ".py",
   "mimetype": "text/x-python",
   "name": "python",
   "nbconvert_exporter": "python",
   "pygments_lexer": "ipython3",
   "version": "3.11.7"
  }
 },
 "nbformat": 4,
 "nbformat_minor": 5
}
